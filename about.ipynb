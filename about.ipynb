{
  "cells": [
    {
      "cell_type": "raw",
      "metadata": {},
      "source": [
        "---\n",
        "title: \"About\"\n",
        "---"
      ],
      "id": "108c8dfe"
    },
    {
      "cell_type": "raw",
      "metadata": {},
      "source": [
        "---\n",
        "title: \"\"\n",
        "subtitle: \"Cecilia Zumajo-Cardona\"\n",
        "engine: knitr\n",
        "about: \n",
        "  \n",
        "  template: marquee\n",
        "  image: Images/Lab2.png\n",
        "  id: Heading\n",
        "  links:\n",
        "    - icon: twitter\n",
        "      text: twitter\n",
        "      href: https://twitter.com/CeciZumajo\n",
        "    - icon: github\n",
        "      text: Github\n",
        "      href: https://github.com/cezumajo\n",
        "---"
      ],
      "id": "d6a6b19d"
    },
    {
      "cell_type": "markdown",
      "metadata": {},
      "source": [
        "::: {#Heading}\n",
        ":::\n",
        "\n",
        "\n",
        "\n",
        "\n",
        "```{css, echo = FALSE}\n",
        ".justify {\n",
        "  text-align: justify !important\n",
        "}\n",
        "```\n",
        "\n",
        "\n",
        "## Quarto\n",
        "\n",
        "::: {.justify}\n",
        "\n",
        "Welcome to the Zumajo-Cardona Lab at NYBG!\n",
        "\n",
        "Growing up in a neotropical country, I was exposed to an enormous diversity of plants, which naturally aroused in me curiosity and the desire to know more about them. Until now, my studies and research have mainly focused on the evolution and development of plants. Currently, I am an Assistant Curator at New York Botanical Garden.

I was an EMBO postdoctoral researcher at the Università Degli Studi di Milano, working in Prof. Colombo's lab, I received a 'Seal of Excellence' from the European commission after applying for the Marie Curie Postdoctoral Fellowship. And I also did a short Postdoct at the Università Degli Studi di Padova and its botanical garden (the oldest in the world!) working on Wollemia (araucariaceae) ovule development, Funded by the University (STARS@UniPd program).

I obtained my PhD in June 2021, in a joint program between the City University of New York (CUNY) and the New York Botanical Garden (NYBG) with Dr. Barbara Ambrose as my advisor. My doctoral research focused on ovule development of non-model species, particularly on gymnosperms, the first plant lineage where seeds evolved. Given the enormous morphological diversity of seeds, the project included five different species. This research also combined several approaches, such as morphology and anatomy, to describe the developmental stages of the seed in the species selected, and genomic approaches to compare the expression patterns of what is known from the model species Arabidopsis with gymnosperms. But it was during my undergraduate studies that I fell in love with the evolution and development of plants. Mentored by Prof. Natalia Pabon-Mora, my thesis dissertation was on the evolution of the APETALA2 gene lineage.\n",

For my research I use classical morpho-anatomical approaches, with up to date tools that can be implemented in non model species mostly.\n",

I use different programming languages such as Bash, AWK and Python, that are of great help for analyzing the transcriptome data.\n",
        "\n",
        "So far, my research has been the subject of various publications that I invite you to consult Do not hesitate to contact me,\n",
        "\n",
        "Cecilia Zumajo-Cardona\n",
        "\n",
        "Laboratory for Integrative Biodiversity Research\n",
        "\n",
        "New York Botanical Garden\n",
        "\n",
        "cecilia.zumajo\\@unimi.it \n",
        ":::"
      ],
      "id": "04ac9d33"
    }
  ],
  "metadata": {
    "kernelspec": {
      "name": "python3",
      "language": "python",
      "display_name": "Python 3"
    }
  },
  "nbformat": 4,
  "nbformat_minor": 5
}