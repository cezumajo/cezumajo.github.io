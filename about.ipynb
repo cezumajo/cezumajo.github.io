{
  "cells": [
    {
      "cell_type": "raw",
      "metadata": {},
      "source": [
        "---\n",
        "title: \"About\"\n",
        "---"
      ],
      "id": "108c8dfe"
    },
    {
      "cell_type": "raw",
      "metadata": {},
      "source": [
        "---\n",
        "title: \"\"\n",
        "subtitle: \"Cecilia Zumajo-Cardona\"\n",
        "engine: knitr\n",
        "about: \n",
        "  \n",
        "  template: marquee\n",
        "  image: Images/Lab2.png\n",
        "  id: Heading\n",
        "  links:\n",
        "    - icon: twitter\n",
        "      text: twitter\n",
        "      href: https://twitter.com/CeciZumajo\n",
        "    - icon: github\n",
        "      text: Github\n",
        "      href: https://github.com/cezumajo\n",
        "---"
      ],
      "id": "d6a6b19d"
    },
    {
      "cell_type": "markdown",
      "metadata": {},
      "source": [
        "::: {#Heading}\n",
        ":::\n",
        "\n",
        "\n",
        "\n",
        "\n",
        "```{css, echo = FALSE}\n",
        ".justify {\n",
        "  text-align: justify !important\n",
        "}\n",
        "```\n",
        "\n",
        "\n",
        "## Quarto\n",
        "\n",
        "::: {.justify}\n",
        "\n",
        "Welcome!\n",
        "\n",
        "Growing up in a neotropical country, I was exposed to an enormous diversity of plants, which naturally aroused in me curiosity and the desire to know more about them. Until now, my studies and research have mainly focused on the evolution and development of plants. Currently, I am an EMBO postdoctoral researcher at the Università Degli Studi di Milano, working in Colombo's lab, I received a 'Seal of Excellence' from the European commission after applying for the Marie Curie Postdoctoral Fellowship. This position is a very exciting experience for me as I tackle the development of seeds in the model species Arabidopsis thaliana. I obtained my PhD in June 2021, in a joint program between the City University of New York (CUNY) and the New York Botanical Garden (NYBG) with Dr. Barbara Ambrose as my advisor. My doctoral research focused on ovule development of non-model species, particularly on gymnosperms, the first plant lineage where seeds evolved. Given the enormous morphological diversity of seeds, the project included five different species. This research also combined several approaches, such as morphology and anatomy, to describe the developmental stages of the seed in the species selected, and genomic approaches to compare the expression patterns of what is known from the model species Arabidopsis with gymnosperms. In addition, I have used different programming languages such as Bash, AWK and Python, that are of great help for analyzing the transcriptome data. I invite you to watch my predefense seminar available here. But it was during my undergraduate studies that I fell in love with the evolution and development of plants. Mentored by Prof. Natalia Pabon-Mora, my thesis dissertation was on the evolution of the APETALA2 gene lineage.\n",
        "\n",
        "So far, my research has been the subject of various publications that I invite you to consult Do not hesitate to contact me,\n",
        "\n",
        "Cecilia Zumajo-Cardona\n",
        "\n",
        "Via Celoria 26, Università degli Studi di Milano Milano, Italy.\n",
        "\n",
        "cecilia.zumajo\\@unimi.it \n",
        ":::"
      ],
      "id": "04ac9d33"
    }
  ],
  "metadata": {
    "kernelspec": {
      "name": "python3",
      "language": "python",
      "display_name": "Python 3"
    }
  },
  "nbformat": 4,
  "nbformat_minor": 5
}